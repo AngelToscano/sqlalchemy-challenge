{
 "cells": [
  {
   "cell_type": "code",
   "execution_count": 5,
   "metadata": {},
   "outputs": [],
   "source": [
    "# Import Flask\n",
    "from flask import Flask, jsonify"
   ]
  },
  {
   "cell_type": "code",
   "execution_count": 6,
   "metadata": {},
   "outputs": [],
   "source": [
    "# Dependencies and Setup\n",
    "import numpy as np\n",
    "import datetime as dt"
   ]
  },
  {
   "cell_type": "code",
   "execution_count": 7,
   "metadata": {},
   "outputs": [],
   "source": [
    "# Python SQL Toolkit and Object Relational Mapper\n",
    "import sqlalchemy\n",
    "from sqlalchemy.ext.automap import automap_base\n",
    "from sqlalchemy.orm import Session\n",
    "from sqlalchemy import create_engine, func"
   ]
  },
  {
   "cell_type": "code",
   "execution_count": 8,
   "metadata": {},
   "outputs": [],
   "source": [
    "#Setting up the engine\n",
    "engine = create_engine(\"sqlite:///Resources/hawaii.sqlite\")"
   ]
  },
  {
   "cell_type": "code",
   "execution_count": 9,
   "metadata": {},
   "outputs": [],
   "source": [
    "# reflect an existing database into a new model\n",
    "Base = automap_base()"
   ]
  },
  {
   "cell_type": "code",
   "execution_count": 10,
   "metadata": {},
   "outputs": [],
   "source": [
    "# Reflect the Tables\n",
    "Base.prepare(engine, reflect=True)"
   ]
  },
  {
   "cell_type": "code",
   "execution_count": 11,
   "metadata": {},
   "outputs": [],
   "source": [
    "# Save reference to the table\n",
    "Measurement = Base.classes.measurement\n",
    "Station = Base.classes.station"
   ]
  },
  {
   "cell_type": "code",
   "execution_count": 12,
   "metadata": {},
   "outputs": [],
   "source": [
    "#################################################\n",
    "# Flask Setup\n",
    "#################################################\n",
    "app = Flask(__name__)"
   ]
  },
  {
   "cell_type": "code",
   "execution_count": 22,
   "metadata": {},
   "outputs": [],
   "source": [
    "@app.route(\"/\")\n",
    "def welcome():\n",
    "        return \"\"\"<html>\n",
    "    <h1>Hawaii Climate App (Flask API)</h1>\n",
    "    <img src=\"https://i.ytimg.com/vi/3ZiMvhIO-d4/maxresdefault.jpg\" alt=\"Hawaii Weather\"/>\n",
    "    <p>Precipitation Analysis:</p>\n",
    "        <ul>\n",
    "    <li><a href=\"/api/v1.0/precipitation\">/api/v1.0/precipitation</a></li>\n",
    "        </ul>\n",
    "    <p>Station Analysis:</p>\n",
    "        <ul>\n",
    "      <li><a href=\"/api/v1.0/stations\">/api/v1.0/stations</a></li>\n",
    "        </ul>\n",
    "    <p>Temperature Analysis:</p>\n",
    "        <ul>\n",
    "      <li><a href=\"/api/v1.0/tobs\">/api/v1.0/tobs</a></li>\n",
    "    </ul>\n",
    "    <p>Start Day Analysis:</p>\n",
    "        <ul>\n",
    "      <li><a href=\"/api/v1.0/2017-03-14\">/api/v1.0/2017-03-14</a></li>\n",
    "        </ul>\n",
    "    <p>Start & End Day Analysis:</p>\n",
    "        <ul>\n",
    "      <li><a href=\"/api/v1.0/2017-03-14/2017-03-28\">/api/v1.0/2017-03-14/2017-03-28</a></li>\n",
    "        </ul>\n",
    "    </html>\n",
    "    \"\"\""
   ]
  },
  {
   "cell_type": "code",
   "execution_count": 14,
   "metadata": {},
   "outputs": [],
   "source": [
    "# Precipitation Route\n",
    "@app.route(\"/api/v1.0/precipitation\")\n",
    "def precipitation():\n",
    "        # Convert the Query Results to a Dictionary Using `date` as the Key and `prcp` as the Value\n",
    "        # Calculate the Date 1 Year Ago from the Last Data Point in the Database\n",
    "        one_year_ago = dt.date(2017,8,23) - dt.timedelta(days=365)\n",
    "        # Design a Query to Retrieve the Last 12 Months of Precipitation Data Selecting Only the `date` and `prcp` Values\n",
    "        prcp_data = session.query(Measurement.date, Measurement.prcp).\\\n",
    "                filter(Measurement.date >= one_year_ago).\\\n",
    "                order_by(Measurement.date).all()\n",
    "        # Convert List of Tuples Into a Dictionary\n",
    "        prcp_data_list = dict(prcp_data)\n",
    "        # Return JSON Representation of Dictionary\n",
    "        return jsonify(prcp_data_list)"
   ]
  },
  {
   "cell_type": "code",
   "execution_count": 15,
   "metadata": {},
   "outputs": [],
   "source": [
    "# Station Route\n",
    "@app.route(\"/api/v1.0/stations\")\n",
    "def stations():\n",
    "        # Return a JSON List of Stations From the Dataset\n",
    "        stations_all = session.query(Station.station, Station.name).all()\n",
    "        # Convert List of Tuples Into Normal List\n",
    "        station_list = list(stations_all)\n",
    "        # Return JSON List of Stations from the Dataset\n",
    "        return jsonify(station_list)\n"
   ]
  },
  {
   "cell_type": "code",
   "execution_count": 16,
   "metadata": {},
   "outputs": [],
   "source": [
    "# TOBs Route\n",
    "@app.route(\"/api/v1.0/tobs\")\n",
    "def tobs():\n",
    "        # Query for the Dates and Temperature Observations from a Year from the Last Data Point\n",
    "        one_year_ago = dt.date(2017,8,23) - dt.timedelta(days=365)\n",
    "        # Design a Query to Retrieve the Last 12 Months of Precipitation Data Selecting Only the `date` and `prcp` Values\n",
    "        tobs_data = session.query(Measurement.date, Measurement.tobs).\\\n",
    "                filter(Measurement.date >= one_year_ago).\\\n",
    "                order_by(Measurement.date).all()\n",
    "        # Convert List of Tuples Into Normal List\n",
    "        tobs_data_list = list(tobs_data)\n",
    "        # Return JSON List of Temperature Observations (tobs) for the Previous Year\n",
    "        return jsonify(tobs_data_list)\n"
   ]
  },
  {
   "cell_type": "code",
   "execution_count": 17,
   "metadata": {},
   "outputs": [],
   "source": [
    "# Start Day Route\n",
    "@app.route(\"/api/v1.0/<start>\")\n",
    "def start_day(start):\n",
    "        start_day = session.query(Measurement.date, func.min(Measurement.tobs), func.avg(Measurement.tobs), func.max(Measurement.tobs)).\\\n",
    "                filter(Measurement.date >= start).\\\n",
    "                group_by(Measurement.date).all()\n",
    "        # Convert List of Tuples Into Normal List\n",
    "        start_day_list = list(start_day)\n",
    "        # Return JSON List of Min Temp, Avg Temp and Max Temp for a Given Start Range\n",
    "        return jsonify(start_day_list)\n"
   ]
  },
  {
   "cell_type": "code",
   "execution_count": null,
   "metadata": {},
   "outputs": [],
   "source": [
    "if __name__ == \"__main__\":\n",
    "    app.run(debug=True)"
   ]
  }
 ],
 "metadata": {
  "kernelspec": {
   "display_name": "Python 3.9.12 ('base')",
   "language": "python",
   "name": "python3"
  },
  "language_info": {
   "codemirror_mode": {
    "name": "ipython",
    "version": 3
   },
   "file_extension": ".py",
   "mimetype": "text/x-python",
   "name": "python",
   "nbconvert_exporter": "python",
   "pygments_lexer": "ipython3",
   "version": "3.9.12"
  },
  "orig_nbformat": 4,
  "vscode": {
   "interpreter": {
    "hash": "b327c3f02a55c96f0e641b3d006bf54f0d0442b9dc497968dddf32a3cf9bdc28"
   }
  }
 },
 "nbformat": 4,
 "nbformat_minor": 2
}
